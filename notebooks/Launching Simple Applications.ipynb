{
 "cells": [
  {
   "cell_type": "markdown",
   "metadata": {},
   "source": [
    "## Docker images"
   ]
  },
  {
   "cell_type": "code",
   "execution_count": 1,
   "metadata": {},
   "outputs": [
    {
     "name": "stdout",
     "output_type": "stream",
     "text": [
      "openresty                            bionic-with-top     a82cdeb5f7e6        2 days ago          648MB\n",
      "openresty/openresty                  bionic              de816c768659        2 weeks ago         562MB\n"
     ]
    }
   ],
   "source": [
    "run(pipeline(`docker images`, `grep openresty`, `grep -v 127.0.1.1`));"
   ]
  },
  {
   "cell_type": "code",
   "execution_count": 2,
   "metadata": {},
   "outputs": [
    {
     "name": "stdout",
     "output_type": "stream",
     "text": [
      "# openresty image with ngxtop utility\n",
      "#\n",
      "# build using:\n",
      "# docker build -t openresty:bionic-with-top -f Dockerfile .\n",
      "\n",
      "FROM openresty/openresty:bionic\n",
      "\n",
      "RUN apt-get install -y python-pip \\\n",
      "    && pip install ngxtop \\\n",
      "    && rm /usr/local/openresty/nginx/logs/access.log \\\n",
      "    && rm /usr/local/openresty/nginx/logs/error.log\n",
      "\n",
      "COPY nginx.conf /usr/local/openresty/nginx/conf/nginx.conf\n"
     ]
    }
   ],
   "source": [
    ";cat Dockerfile"
   ]
  },
  {
   "cell_type": "markdown",
   "metadata": {},
   "source": [
    "## Run a Nginx Webserver\n",
    "\n",
    "Nginx is a very popular webserver. Applications like webservers are interesting in the sense that they are services. That is, they expose network endpoints that can be called from other applications. We shall see how to expose and use network ports or service endpoints from applications in Kubernetes."
   ]
  },
  {
   "cell_type": "code",
   "execution_count": 3,
   "metadata": {},
   "outputs": [
    {
     "name": "stderr",
     "output_type": "stream",
     "text": [
      "┌ Info: unsupported crd.projectcalico.org/v1\n",
      "└ @ Kuber /home/tan/.julia/packages/Kuber/fdQId/src/helpers.jl:131\n"
     ]
    }
   ],
   "source": [
    "using Kuber\n",
    "ctx = KuberContext();\n",
    "Kuber.set_api_versions!(ctx);"
   ]
  },
  {
   "cell_type": "markdown",
   "metadata": {},
   "source": [
    "We need to give a specification of the application, the entity of type `Pod`, to the cluster. The `Pod` specifies which image it would execute, and adds some metadata to the entity.\n",
    "\n",
    "Because this is a service, we also specify the network port. And we also create another entity called a `Service` in the cluster that exposes this port as a callable endpoint.\n",
    "\n",
    "The `Kuber.kuber_obj` method converts a JSON specification to an entity object."
   ]
  },
  {
   "cell_type": "code",
   "execution_count": 4,
   "metadata": {},
   "outputs": [],
   "source": [
    "nginx_pod = kuber_obj(ctx, \"\"\"{\n",
    "           \"kind\": \"Pod\",\n",
    "           \"metadata\":{\n",
    "               \"name\": \"nginx-pod\",\n",
    "               \"namespace\": \"default\",\n",
    "               \"labels\": {\n",
    "                   \"name\": \"nginx-pod\"\n",
    "               }\n",
    "           },\n",
    "           \"spec\": {\n",
    "               \"containers\": [{\n",
    "                   \"name\": \"nginx\",\n",
    "                   \"image\": \"openresty:bionic-with-top\",\n",
    "                   \"ports\": [{\"containerPort\": 80}]\n",
    "               }]\n",
    "           }\n",
    "       }\"\"\");"
   ]
  },
  {
   "cell_type": "code",
   "execution_count": 5,
   "metadata": {},
   "outputs": [],
   "source": [
    "nginx_service = kuber_obj(ctx, \"\"\"{\n",
    "           \"kind\": \"Service\",\n",
    "           \"metadata\": {\n",
    "               \"name\": \"nginx-service\",\n",
    "               \"namespace\": \"default\",\n",
    "               \"labels\": {\"name\": \"nginx-service\"}\n",
    "           },\n",
    "           \"spec\": {\n",
    "               \"type\": \"NodePort\",\n",
    "               \"ports\": [{\"port\": 80}],\n",
    "               \"selector\": {\"name\": \"nginx-pod\"}\n",
    "           }\n",
    "       }\"\"\");"
   ]
  },
  {
   "cell_type": "code",
   "execution_count": 6,
   "metadata": {},
   "outputs": [
    {
     "data": {
      "text/plain": [
       "(Kuber.Kubernetes.IoK8sApiCoreV1Pod, Kuber.Kubernetes.IoK8sApiCoreV1Service)"
      ]
     },
     "execution_count": 6,
     "metadata": {},
     "output_type": "execute_result"
    }
   ],
   "source": [
    "typeof(nginx_pod), typeof(nginx_service)"
   ]
  },
  {
   "cell_type": "markdown",
   "metadata": {},
   "source": [
    "We can create the entities in the cluster by applying the `put!` verb on them."
   ]
  },
  {
   "cell_type": "code",
   "execution_count": 7,
   "metadata": {},
   "outputs": [],
   "source": [
    "pod = put!(ctx, nginx_pod);"
   ]
  },
  {
   "cell_type": "code",
   "execution_count": 8,
   "metadata": {},
   "outputs": [],
   "source": [
    "service = put!(ctx, nginx_service);"
   ]
  },
  {
   "cell_type": "markdown",
   "metadata": {},
   "source": [
    "We can now see our pod in our namespace.\n",
    "And we can fetch them back from the cluster using the `get` verb on the entity name."
   ]
  },
  {
   "cell_type": "code",
   "execution_count": 9,
   "metadata": {},
   "outputs": [
    {
     "data": {
      "text/plain": [
       "1-element Array{String,1}:\n",
       " \"nginx-pod\""
      ]
     },
     "execution_count": 9,
     "metadata": {},
     "output_type": "execute_result"
    }
   ],
   "source": [
    "collect(item.metadata.name for item in (get(ctx, :Pod)).items)"
   ]
  },
  {
   "cell_type": "code",
   "execution_count": 10,
   "metadata": {},
   "outputs": [
    {
     "data": {
      "text/plain": [
       "2-element Array{String,1}:\n",
       " \"kubernetes\"\n",
       " \"nginx-service\""
      ]
     },
     "execution_count": 10,
     "metadata": {},
     "output_type": "execute_result"
    }
   ],
   "source": [
    "collect(item.metadata.name for item in (get(ctx, :Service)).items)"
   ]
  },
  {
   "cell_type": "code",
   "execution_count": 11,
   "metadata": {},
   "outputs": [
    {
     "data": {
      "text/plain": [
       "{\n",
       "  \"kind\": \"Service\",\n",
       "  \"metadata\": {\n",
       "    \"creationTimestamp\": \"2020-05-08T03:17:22Z\",\n",
       "    \"uid\": \"f3d63ad4-fa6c-4cc1-a47a-e6cd311a8b17\",\n",
       "    \"labels\": {\n",
       "      \"name\": \"nginx-service\"\n",
       "    },\n",
       "    \"selfLink\": \"/api/v1/namespaces/default/services/nginx-service\",\n",
       "    \"name\": \"nginx-service\",\n",
       "    \"managedFields\": [\n",
       "      {\n",
       "        \"fieldsType\": \"FieldsV1\",\n",
       "        \"apiVersion\": \"v1\",\n",
       "        \"manager\": \"HTTP.jl\",\n",
       "        \"fieldsV1\": {},\n",
       "        \"operation\": \"Update\",\n",
       "        \"time\": \"2020-05-08T03:17:22Z\"\n",
       "      }\n",
       "    ],\n",
       "    \"namespace\": \"default\",\n",
       "    \"resourceVersion\": \"6434\"\n",
       "  },\n",
       "  \"apiVersion\": \"v1\",\n",
       "  \"status\": {\n",
       "    \"loadBalancer\": {}\n",
       "  },\n",
       "  \"spec\": {\n",
       "    \"externalTrafficPolicy\": \"Cluster\",\n",
       "    \"clusterIP\": \"10.103.36.245\",\n",
       "    \"sessionAffinity\": \"None\",\n",
       "    \"selector\": {\n",
       "      \"name\": \"nginx-pod\"\n",
       "    },\n",
       "    \"ports\": [\n",
       "      {\n",
       "        \"nodePort\": 30605,\n",
       "        \"port\": 80,\n",
       "        \"protocol\": \"TCP\",\n",
       "        \"targetPort\": \"80\"\n",
       "      }\n",
       "    ],\n",
       "    \"type\": \"NodePort\"\n",
       "  }\n",
       "}\n"
      ]
     },
     "execution_count": 11,
     "metadata": {},
     "output_type": "execute_result"
    }
   ],
   "source": [
    "get(ctx, :Service, \"nginx-service\")"
   ]
  },
  {
   "cell_type": "markdown",
   "metadata": {},
   "source": [
    "In the service entity that we fetched, we can now see the IP and port of the nginx service. The IP is a virtual IP and was assigned automatically by Kubernetes.\n",
    "\n",
    "We can use our webserver now."
   ]
  },
  {
   "cell_type": "code",
   "execution_count": 12,
   "metadata": {},
   "outputs": [
    {
     "name": "stdout",
     "output_type": "stream",
     "text": [
      "<!DOCTYPE html>\n",
      "<html>\n",
      "<head>\n",
      "<title>Welcome to OpenResty!</title>\n",
      "<style>\n",
      "    body {\n",
      "        width: 35em;\n",
      "        margin: 0 auto;\n",
      "        font-family: Tahoma, Verdana, Arial, sans-serif;\n",
      "    }\n",
      "</style>\n",
      "</head>\n",
      "<body>\n",
      "<h1>Welcome to OpenResty!</h1>\n",
      "<p>If you see this page, the OpenResty web platform is successfully installed and\n",
      "working. Further configuration is required.</p>\n",
      "\n",
      "<p>For online documentation and support please refer to\n",
      "<a href=\"https://openresty.org/\">openresty.org</a>.<br/>\n",
      "Commercial support is available at\n",
      "<a href=\"https://openresty.com/\">openresty.com</a>.</p>\n",
      "\n",
      "<p><em>Thank you for flying OpenResty.</em></p>\n",
      "</body>\n",
      "</html>\n"
     ]
    },
    {
     "name": "stderr",
     "output_type": "stream",
     "text": [
      "  % Total    % Received % Xferd  Average Speed   Time    Time     Time  Current\n",
      "                                 Dload  Upload   Total   Spent    Left  Speed\n",
      "\r",
      "  0     0    0     0    0     0      0      0 --:--:-- --:--:-- --:--:--     0\r",
      "100   649  100   649    0     0   633k      0 --:--:-- --:--:-- --:--:--  633k\n"
     ]
    }
   ],
   "source": [
    ";curl http://10.103.36.245/"
   ]
  },
  {
   "cell_type": "markdown",
   "metadata": {},
   "source": [
    "At this point we can use the Kubernetes dashboard to get inside the container. Kubernetes dashboard is a useful interactive dashboard, usually available by default in all Kubernetes clusters.\n",
    "\n",
    "Finally when we are done, we can use the `delete!` verb to remove the entities from the cluster. This will stop the process that the cluster was running."
   ]
  },
  {
   "cell_type": "code",
   "execution_count": 13,
   "metadata": {},
   "outputs": [],
   "source": [
    "delete!(ctx, service);\n",
    "delete!(ctx, pod);"
   ]
  },
  {
   "cell_type": "code",
   "execution_count": null,
   "metadata": {},
   "outputs": [],
   "source": []
  }
 ],
 "metadata": {
  "kernelspec": {
   "display_name": "Julia 1.4.1",
   "language": "julia",
   "name": "julia-1.4"
  },
  "language_info": {
   "file_extension": ".jl",
   "mimetype": "application/julia",
   "name": "julia",
   "version": "1.4.1"
  }
 },
 "nbformat": 4,
 "nbformat_minor": 2
}
