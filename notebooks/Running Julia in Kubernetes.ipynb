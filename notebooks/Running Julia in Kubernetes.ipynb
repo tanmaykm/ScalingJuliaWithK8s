{
 "cells": [
  {
   "cell_type": "markdown",
   "metadata": {},
   "source": [
    "## Julia Docker images\n",
    "\n",
    "Available at [dockerhub](https://hub.docker.com/_/julia)\n",
    "\n",
    "`docker pull julia:1.4.1`"
   ]
  },
  {
   "cell_type": "code",
   "execution_count": 1,
   "metadata": {},
   "outputs": [
    {
     "name": "stdout",
     "output_type": "stream",
     "text": [
      "julia                                1.4.1               248f01656dfd        2 weeks ago         447MB\n"
     ]
    }
   ],
   "source": [
    "run(pipeline(`docker images`, `grep julia`, `grep \"1\\.4\\.1\"`));"
   ]
  },
  {
   "cell_type": "markdown",
   "metadata": {},
   "source": [
    "## Run a simple Julia Task\n",
    "\n",
    "Let us first run a Julia task that just prints out something.\n",
    "\n",
    "We connect to the kubernetes cluster. We then create a Pod specification using julia image. Here, along with the image name, we are also specifying the command to run (`julia`) and the arguments to it."
   ]
  },
  {
   "cell_type": "code",
   "execution_count": 2,
   "metadata": {},
   "outputs": [
    {
     "name": "stderr",
     "output_type": "stream",
     "text": [
      "┌ Info: unsupported crd.projectcalico.org/v1\n",
      "└ @ Kuber /home/tan/.julia/packages/Kuber/fdQId/src/helpers.jl:131\n"
     ]
    }
   ],
   "source": [
    "using Kuber\n",
    "ctx = KuberContext();\n",
    "Kuber.set_api_versions!(ctx);"
   ]
  },
  {
   "cell_type": "code",
   "execution_count": 3,
   "metadata": {},
   "outputs": [],
   "source": [
    "julia_pod = kuber_obj(ctx, \"\"\"{\n",
    "           \"kind\": \"Pod\",\n",
    "           \"metadata\":{\n",
    "               \"name\": \"julia-pod\",\n",
    "               \"namespace\": \"default\",\n",
    "               \"labels\": {\n",
    "                   \"name\": \"julia-pod\"\n",
    "               }\n",
    "           },\n",
    "           \"spec\": {\n",
    "               \"containers\": [{\n",
    "                   \"name\": \"julia\",\n",
    "                   \"image\": \"julia:1.4.1\",\n",
    "                   \"command\": [\"julia\"],\n",
    "                   \"args\": [\n",
    "                       \"-e\",\n",
    "                       \"while true; println(time()); sleep(5); end\"\n",
    "                   ]\n",
    "               }]\n",
    "           }\n",
    "       }\"\"\");"
   ]
  },
  {
   "cell_type": "code",
   "execution_count": 4,
   "metadata": {},
   "outputs": [],
   "source": [
    "pod = put!(ctx, julia_pod);"
   ]
  },
  {
   "cell_type": "markdown",
   "metadata": {},
   "source": [
    "We now use the `kubectl` tool to show what out julia process prints out."
   ]
  },
  {
   "cell_type": "code",
   "execution_count": 5,
   "metadata": {},
   "outputs": [
    {
     "name": "stdout",
     "output_type": "stream",
     "text": [
      "1.58891125299015e9\n",
      "1.588911258156469e9\n"
     ]
    }
   ],
   "source": [
    ";kubectl logs julia-pod"
   ]
  },
  {
   "cell_type": "code",
   "execution_count": 6,
   "metadata": {},
   "outputs": [],
   "source": [
    "delete!(ctx, pod);"
   ]
  },
  {
   "cell_type": "markdown",
   "metadata": {},
   "source": [
    "## Specifying resource allocation\n",
    "\n",
    "Optional, but recommended. We specify the minimum amount of resource (`requests`) and the maximum (`limits`) that our process may be allowed to use if no one else is using them. Similar to `cpu` we can allocate memory resources as well.\n",
    "\n",
    "Helps the cluster to schedule processes better.\n",
    "\n",
    "Safeguards your processes from being throttled or terminated if they exceed available resources."
   ]
  },
  {
   "cell_type": "code",
   "execution_count": 7,
   "metadata": {},
   "outputs": [],
   "source": [
    "julia_pod = kuber_obj(ctx, \"\"\"{\n",
    "           \"kind\": \"Pod\",\n",
    "           \"metadata\":{\n",
    "               \"name\": \"julia-pod\",\n",
    "               \"namespace\": \"default\",\n",
    "               \"labels\": {\n",
    "                   \"name\": \"julia-pod\"\n",
    "               }\n",
    "           },\n",
    "           \"spec\": {\n",
    "               \"containers\": [{\n",
    "                   \"name\": \"julia\",\n",
    "                   \"image\": \"julia:1.4.1\",\n",
    "                   \"command\": [\"julia\"],\n",
    "                   \"args\": [\n",
    "                       \"-e\",\n",
    "                       \"while true; println(time()); sleep(5); end\"\n",
    "                   ],\n",
    "                   \"resources\": {\n",
    "                       \"limits\": {\n",
    "                           \"cpu\": \"1\"\n",
    "                       },\n",
    "                       \"requests\": {\n",
    "                           \"cpu\": \"500m\"\n",
    "                       }\n",
    "                   }\n",
    "               }]\n",
    "           }\n",
    "       }\"\"\");"
   ]
  },
  {
   "cell_type": "code",
   "execution_count": 8,
   "metadata": {},
   "outputs": [],
   "source": [
    "pod = put!(ctx, julia_pod);"
   ]
  },
  {
   "cell_type": "code",
   "execution_count": 10,
   "metadata": {},
   "outputs": [
    {
     "name": "stdout",
     "output_type": "stream",
     "text": [
      "1.588911463589098e9\n",
      "1.588911468884244e9\n"
     ]
    }
   ],
   "source": [
    ";kubectl logs julia-pod"
   ]
  },
  {
   "cell_type": "code",
   "execution_count": 11,
   "metadata": {},
   "outputs": [],
   "source": [
    "delete!(ctx, pod);"
   ]
  },
  {
   "cell_type": "code",
   "execution_count": null,
   "metadata": {},
   "outputs": [],
   "source": []
  }
 ],
 "metadata": {
  "kernelspec": {
   "display_name": "Julia 1.4.1",
   "language": "julia",
   "name": "julia-1.4"
  },
  "language_info": {
   "file_extension": ".jl",
   "mimetype": "application/julia",
   "name": "julia",
   "version": "1.4.1"
  }
 },
 "nbformat": 4,
 "nbformat_minor": 2
}
