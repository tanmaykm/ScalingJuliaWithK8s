{
 "cells": [
  {
   "cell_type": "markdown",
   "metadata": {},
   "source": [
    "## Julia Docker images\n",
    "\n",
    "Available at [dockerhub](https://hub.docker.com/_/julia)\n",
    "\n",
    "`docker pull julia:1.4.1`"
   ]
  },
  {
   "cell_type": "code",
   "execution_count": 1,
   "metadata": {},
   "outputs": [
    {
     "name": "stdout",
     "output_type": "stream",
     "text": [
      "julia                                1.4.1               248f01656dfd        13 days ago         447MB\n"
     ]
    }
   ],
   "source": [
    "run(pipeline(`docker images`, `grep julia`, `grep \"1\\.4\\.1\"`));"
   ]
  },
  {
   "cell_type": "markdown",
   "metadata": {},
   "source": [
    "## Run a simple Julia Task\n",
    "\n",
    "Let us first run a Julia task that just prints out something"
   ]
  },
  {
   "cell_type": "code",
   "execution_count": 2,
   "metadata": {},
   "outputs": [
    {
     "name": "stderr",
     "output_type": "stream",
     "text": [
      "┌ Info: unsupported crd.projectcalico.org/v1\n",
      "└ @ Kuber /home/tan/.julia/packages/Kuber/fdQId/src/helpers.jl:131\n"
     ]
    }
   ],
   "source": [
    "using Kuber\n",
    "ctx = KuberContext();\n",
    "Kuber.set_api_versions!(ctx);"
   ]
  },
  {
   "cell_type": "code",
   "execution_count": 3,
   "metadata": {},
   "outputs": [],
   "source": [
    "julia_pod = kuber_obj(ctx, \"\"\"{\n",
    "           \"kind\": \"Pod\",\n",
    "           \"metadata\":{\n",
    "               \"name\": \"julia-pod\",\n",
    "               \"namespace\": \"default\",\n",
    "               \"labels\": {\n",
    "                   \"name\": \"julia-pod\"\n",
    "               }\n",
    "           },\n",
    "           \"spec\": {\n",
    "               \"containers\": [{\n",
    "                   \"name\": \"julia\",\n",
    "                   \"image\": \"julia:1.4.1\",\n",
    "                   \"command\": [\"julia\"],\n",
    "                   \"args\": [\n",
    "                       \"-e\",\n",
    "                       \"while true; println(time()); sleep(1); end\"\n",
    "                   ]\n",
    "               }]\n",
    "           }\n",
    "       }\"\"\");"
   ]
  },
  {
   "cell_type": "code",
   "execution_count": 4,
   "metadata": {},
   "outputs": [],
   "source": [
    "pod = put!(ctx, julia_pod);"
   ]
  },
  {
   "cell_type": "code",
   "execution_count": 5,
   "metadata": {},
   "outputs": [
    {
     "name": "stdout",
     "output_type": "stream",
     "text": [
      "1.588797586431455e9\n",
      "1.588797587596682e9\n",
      "1.588797588598617e9\n",
      "1.588797589600988e9\n",
      "1.588797590602545e9\n",
      "1.588797591604946e9\n",
      "1.588797592606664e9\n",
      "1.588797593608763e9\n",
      "1.588797594610913e9\n",
      "1.588797595613233e9\n",
      "1.588797596615522e9\n",
      "1.588797597618034e9\n",
      "1.588797598620108e9\n",
      "1.588797599622294e9\n",
      "1.588797600624468e9\n",
      "1.588797601626633e9\n",
      "1.588797602629084e9\n",
      "1.588797603630638e9\n",
      "1.588797604633087e9\n",
      "1.588797605635429e9\n",
      "1.588797606637601e9\n",
      "1.588797607638972e9\n",
      "1.588797608641356e9\n",
      "1.588797609642598e9\n",
      "1.588797610644727e9\n",
      "1.588797611646566e9\n",
      "1.588797612648995e9\n",
      "1.588797613650615e9\n",
      "1.588797614652015e9\n",
      "1.588797615654104e9\n",
      "1.588797616656221e9\n",
      "1.588797617658723e9\n",
      "1.588797618660876e9\n",
      "1.588797619662546e9\n",
      "1.588797620663744e9\n",
      "1.588797621666169e9\n",
      "1.588797622668357e9\n",
      "1.588797623670544e9\n",
      "1.588797624671739e9\n",
      "1.588797625674223e9\n",
      "1.588797626676652e9\n"
     ]
    }
   ],
   "source": [
    ";kubectl logs julia-pod"
   ]
  },
  {
   "cell_type": "code",
   "execution_count": 6,
   "metadata": {},
   "outputs": [],
   "source": [
    "delete!(ctx, pod);"
   ]
  },
  {
   "cell_type": "markdown",
   "metadata": {},
   "source": [
    "## Specifying resource allocation\n",
    "\n",
    "Optional, but recommended.\n",
    "\n",
    "Helps the cluster to schedule processes better.\n",
    "Safeguards your processes from being throttled or terminated."
   ]
  },
  {
   "cell_type": "code",
   "execution_count": 7,
   "metadata": {},
   "outputs": [],
   "source": [
    "julia_pod = kuber_obj(ctx, \"\"\"{\n",
    "           \"kind\": \"Pod\",\n",
    "           \"metadata\":{\n",
    "               \"name\": \"julia-pod\",\n",
    "               \"namespace\": \"default\",\n",
    "               \"labels\": {\n",
    "                   \"name\": \"julia-pod\"\n",
    "               }\n",
    "           },\n",
    "           \"spec\": {\n",
    "               \"containers\": [{\n",
    "                   \"name\": \"julia\",\n",
    "                   \"image\": \"julia:1.4.1\",\n",
    "                   \"command\": [\"julia\"],\n",
    "                   \"args\": [\n",
    "                       \"-e\",\n",
    "                       \"while true; println(time()); sleep(1); end\"\n",
    "                   ],\n",
    "                   \"resources\": {\n",
    "                       \"limits\": {\n",
    "                           \"cpu\": \"1\"\n",
    "                       },\n",
    "                       \"requests\": {\n",
    "                           \"cpu\": \"500m\"\n",
    "                       }\n",
    "                   }\n",
    "               }]\n",
    "           }\n",
    "       }\"\"\");"
   ]
  },
  {
   "cell_type": "code",
   "execution_count": 8,
   "metadata": {},
   "outputs": [],
   "source": [
    "pod = put!(ctx, julia_pod);"
   ]
  },
  {
   "cell_type": "code",
   "execution_count": 9,
   "metadata": {},
   "outputs": [
    {
     "name": "stdout",
     "output_type": "stream",
     "text": [
      "1.588797669806216e9\n",
      "1.588797670986561e9\n",
      "1.588797671988748e9\n",
      "1.58879767299078e9\n",
      "1.588797673992975e9\n",
      "1.588797674994933e9\n",
      "1.588797675997072e9\n",
      "1.588797676998646e9\n",
      "1.58879767800087e9\n",
      "1.588797679002619e9\n",
      "1.588797680004936e9\n",
      "1.588797681006953e9\n"
     ]
    }
   ],
   "source": [
    ";kubectl logs julia-pod"
   ]
  },
  {
   "cell_type": "code",
   "execution_count": 10,
   "metadata": {},
   "outputs": [],
   "source": [
    "delete!(ctx, pod);"
   ]
  }
 ],
 "metadata": {
  "kernelspec": {
   "display_name": "Julia 1.4.1",
   "language": "julia",
   "name": "julia-1.4"
  },
  "language_info": {
   "file_extension": ".jl",
   "mimetype": "application/julia",
   "name": "julia",
   "version": "1.4.1"
  }
 },
 "nbformat": 4,
 "nbformat_minor": 2
}
