{
 "cells": [
  {
   "cell_type": "markdown",
   "metadata": {},
   "source": [
    "[Kuber.jl](https://github.com/JuliaComputing/Kuber.jl) is a Julia Kubernetes client.\n",
    "\n",
    "The package can be fetched with a Pkg.add. If already installed, we can simply start `using` it."
   ]
  },
  {
   "cell_type": "code",
   "execution_count": 1,
   "metadata": {},
   "outputs": [],
   "source": [
    "# using Pkg\n",
    "# Pkg.add(\"Kuber\")\n",
    "using Kuber"
   ]
  },
  {
   "cell_type": "markdown",
   "metadata": {},
   "source": [
    "## Connecting, Authenticating, API versions"
   ]
  },
  {
   "cell_type": "markdown",
   "metadata": {},
   "source": [
    "To connect with the cluster, we create a kubernetes context.\n",
    "\n",
    "Here we are connecting via a local proxy, called `kubectl proxy`, which is convenient because it takes up the authentication part and gives a local port to connect to. The `kubectl proxy` can be used with all types of clusters, even remote cloud clusters."
   ]
  },
  {
   "cell_type": "code",
   "execution_count": 2,
   "metadata": {},
   "outputs": [
    {
     "data": {
      "text/plain": []
     },
     "execution_count": 2,
     "metadata": {},
     "output_type": "execute_result"
    },
    {
     "name": "stdout",
     "output_type": "stream",
     "text": [
      "Kubernetes namespace default at http://localhost:8001"
     ]
    }
   ],
   "source": [
    "ctx = KuberContext()"
   ]
  },
  {
   "cell_type": "markdown",
   "metadata": {},
   "source": [
    "It is also possible to specify authentication parameters while constructing a KuberContext. We shall not get into the details of that here. But they will essentially set these parameters - the namespace, the URL of the API server to connect to, and the HTTP options - including the HTTP headers and certificates that can be used to authenticate.\n",
    "\n",
    "**APIs available for setting namespaces and advanced authentication:**\n",
    "- `set_ns(ctx::KuberContext, namespace::String)`\n",
    "- `set_server(ctx::KuberContext, uri::String=DEFAULT_URI, reset_api_versions::Bool=false; kwargs...)`"
   ]
  },
  {
   "cell_type": "code",
   "execution_count": 3,
   "metadata": {},
   "outputs": [
    {
     "data": {
      "text/plain": [
       "\"default\""
      ]
     },
     "execution_count": 3,
     "metadata": {},
     "output_type": "execute_result"
    }
   ],
   "source": [
    "ctx.namespace"
   ]
  },
  {
   "cell_type": "code",
   "execution_count": 4,
   "metadata": {},
   "outputs": [
    {
     "data": {
      "text/plain": [
       "\"http://localhost:8001\""
      ]
     },
     "execution_count": 4,
     "metadata": {},
     "output_type": "execute_result"
    }
   ],
   "source": [
    "ctx.client.root"
   ]
  },
  {
   "cell_type": "code",
   "execution_count": 5,
   "metadata": {},
   "outputs": [
    {
     "data": {
      "text/plain": [
       "Dict{Symbol,Any} with 3 entries:\n",
       "  :require_ssl_verification => true\n",
       "  :retries                  => 0\n",
       "  :status_exception         => false"
      ]
     },
     "execution_count": 5,
     "metadata": {},
     "output_type": "execute_result"
    }
   ],
   "source": [
    "ctx.client.clntoptions"
   ]
  },
  {
   "cell_type": "code",
   "execution_count": 6,
   "metadata": {},
   "outputs": [
    {
     "data": {
      "text/plain": [
       "Dict{String,String} with 1 entry:\n",
       "  \"Connection\" => \"close\""
      ]
     },
     "execution_count": 6,
     "metadata": {},
     "output_type": "execute_result"
    }
   ],
   "source": [
    "ctx.client.headers"
   ]
  },
  {
   "cell_type": "markdown",
   "metadata": {},
   "source": [
    "Once connected, the next step is to discover the APIs the cluster supports. It is not required for users to call this method. It is done here for demonstration, otherwise this will be done automatically on first use of any API.\n",
    "\n",
    "Clusers may support only specific APIs and specific versions of those. Kuber.jl fetches that information and auto-configures itself."
   ]
  },
  {
   "cell_type": "code",
   "execution_count": 7,
   "metadata": {},
   "outputs": [
    {
     "name": "stderr",
     "output_type": "stream",
     "text": [
      "┌ Info: Core versions\n",
      "│   supported = v1\n",
      "│   preferred = v1\n",
      "└ @ Kuber /home/tan/.julia/packages/Kuber/fdQId/src/helpers.jl:158\n",
      "┌ Info: apiregistration.k8s.io (Apiregistration) versions\n",
      "│   supported = v1, v1beta1\n",
      "│   preferred = v1\n",
      "└ @ Kuber /home/tan/.julia/packages/Kuber/fdQId/src/helpers.jl:125\n",
      "┌ Info: extensions (Extensions) versions\n",
      "│   supported = v1beta1\n",
      "│   preferred = v1beta1\n",
      "└ @ Kuber /home/tan/.julia/packages/Kuber/fdQId/src/helpers.jl:125\n",
      "┌ Info: apps (Apps) versions\n",
      "│   supported = v1\n",
      "│   preferred = v1\n",
      "└ @ Kuber /home/tan/.julia/packages/Kuber/fdQId/src/helpers.jl:125\n",
      "┌ Info: events.k8s.io (Events) versions\n",
      "│   supported = v1beta1\n",
      "│   preferred = v1beta1\n",
      "└ @ Kuber /home/tan/.julia/packages/Kuber/fdQId/src/helpers.jl:125\n",
      "┌ Info: authentication.k8s.io (Authentication) versions\n",
      "│   supported = v1, v1beta1\n",
      "│   preferred = v1\n",
      "└ @ Kuber /home/tan/.julia/packages/Kuber/fdQId/src/helpers.jl:125\n",
      "┌ Info: authorization.k8s.io (Authorization) versions\n",
      "│   supported = v1, v1beta1\n",
      "│   preferred = v1\n",
      "└ @ Kuber /home/tan/.julia/packages/Kuber/fdQId/src/helpers.jl:125\n",
      "┌ Info: autoscaling (Autoscaling) versions\n",
      "│   supported = v1, v2beta1, v2beta2\n",
      "│   preferred = v1\n",
      "└ @ Kuber /home/tan/.julia/packages/Kuber/fdQId/src/helpers.jl:125\n",
      "┌ Info: batch (Batch) versions\n",
      "│   supported = v1, v1beta1\n",
      "│   preferred = v1\n",
      "└ @ Kuber /home/tan/.julia/packages/Kuber/fdQId/src/helpers.jl:125\n",
      "┌ Info: certificates.k8s.io (Certificates) versions\n",
      "│   supported = v1beta1\n",
      "│   preferred = v1beta1\n",
      "└ @ Kuber /home/tan/.julia/packages/Kuber/fdQId/src/helpers.jl:125\n",
      "┌ Info: networking.k8s.io (Networking) versions\n",
      "│   supported = v1, v1beta1\n",
      "│   preferred = v1\n",
      "└ @ Kuber /home/tan/.julia/packages/Kuber/fdQId/src/helpers.jl:125\n",
      "┌ Info: policy (Policy) versions\n",
      "│   supported = v1beta1\n",
      "│   preferred = v1beta1\n",
      "└ @ Kuber /home/tan/.julia/packages/Kuber/fdQId/src/helpers.jl:125\n",
      "┌ Info: rbac.authorization.k8s.io (RbacAuthorization) versions\n",
      "│   supported = v1, v1beta1\n",
      "│   preferred = v1\n",
      "└ @ Kuber /home/tan/.julia/packages/Kuber/fdQId/src/helpers.jl:125\n",
      "┌ Info: storage.k8s.io (Storage) versions\n",
      "│   supported = v1, v1beta1\n",
      "│   preferred = v1\n",
      "└ @ Kuber /home/tan/.julia/packages/Kuber/fdQId/src/helpers.jl:125\n",
      "┌ Info: admissionregistration.k8s.io (Admissionregistration) versions\n",
      "│   supported = v1, v1beta1\n",
      "│   preferred = v1\n",
      "└ @ Kuber /home/tan/.julia/packages/Kuber/fdQId/src/helpers.jl:125\n",
      "┌ Info: apiextensions.k8s.io (Apiextensions) versions\n",
      "│   supported = v1, v1beta1\n",
      "│   preferred = v1\n",
      "└ @ Kuber /home/tan/.julia/packages/Kuber/fdQId/src/helpers.jl:125\n",
      "┌ Info: scheduling.k8s.io (Scheduling) versions\n",
      "│   supported = v1, v1beta1\n",
      "│   preferred = v1\n",
      "└ @ Kuber /home/tan/.julia/packages/Kuber/fdQId/src/helpers.jl:125\n",
      "┌ Info: coordination.k8s.io (Coordination) versions\n",
      "│   supported = v1, v1beta1\n",
      "│   preferred = v1\n",
      "└ @ Kuber /home/tan/.julia/packages/Kuber/fdQId/src/helpers.jl:125\n",
      "┌ Info: node.k8s.io (Node) versions\n",
      "│   supported = v1beta1\n",
      "│   preferred = v1beta1\n",
      "└ @ Kuber /home/tan/.julia/packages/Kuber/fdQId/src/helpers.jl:125\n",
      "┌ Info: discovery.k8s.io (Discovery) versions\n",
      "│   supported = v1beta1\n",
      "│   preferred = v1beta1\n",
      "└ @ Kuber /home/tan/.julia/packages/Kuber/fdQId/src/helpers.jl:125\n",
      "┌ Info: crd.projectcalico.org (CrdProjectcalicoOrg) versions\n",
      "│   supported = v1\n",
      "│   preferred = v1\n",
      "└ @ Kuber /home/tan/.julia/packages/Kuber/fdQId/src/helpers.jl:125\n",
      "┌ Info: unsupported crd.projectcalico.org/v1\n",
      "└ @ Kuber /home/tan/.julia/packages/Kuber/fdQId/src/helpers.jl:131\n"
     ]
    }
   ],
   "source": [
    "Kuber.set_api_versions!(ctx; verbose=true)"
   ]
  },
  {
   "cell_type": "markdown",
   "metadata": {},
   "source": [
    "## REST API paradigm - entities and verbs\n",
    "\n",
    "\n",
    "Entities:\n",
    "- Job\n",
    "- Pod\n",
    "- Service\n",
    "\n",
    "Verbs:\n",
    "- get/list\n",
    "- put\n",
    "- update!\n",
    "- delete!\n",
    "\n",
    "## Examining the cluster\n",
    "\n",
    "As an example, we are here getting the list of components of the cluster itself and their statuses, by doing a `get` on the `ComponenetStatus` entity.\n",
    "\n",
    "What we get back is a `ComponentStatusList` object. And what is of interest to us in that is this element named `items`, which is an array of `ComponentStatus`."
   ]
  },
  {
   "cell_type": "code",
   "execution_count": 8,
   "metadata": {},
   "outputs": [
    {
     "data": {
      "text/plain": [
       "Kuber.Kubernetes.IoK8sApiCoreV1ComponentStatusList"
      ]
     },
     "execution_count": 8,
     "metadata": {},
     "output_type": "execute_result"
    }
   ],
   "source": [
    "result = get(ctx, :ComponentStatus);\n",
    "typeof(result)"
   ]
  },
  {
   "cell_type": "code",
   "execution_count": 9,
   "metadata": {},
   "outputs": [
    {
     "data": {
      "text/plain": [
       "{\n",
       "  \"kind\": \"ComponentStatusList\",\n",
       "  \"metadata\": {\n",
       "    \"selfLink\": \"/api/v1/componentstatuses\"\n",
       "  },\n",
       "  \"apiVersion\": \"v1\",\n",
       "  \"items\": [\n",
       "    {\n",
       "      \"metadata\": {\n",
       "        \"selfLink\": \"/api/v1/componentstatuses/scheduler\",\n",
       "        \"name\": \"scheduler\"\n",
       "      },\n",
       "      \"conditions\": [\n",
       "        {\n",
       "          \"status\": \"True\",\n",
       "          \"type\": \"Healthy\",\n",
       "          \"message\": \"ok\"\n",
       "        }\n",
       "      ]\n",
       "    },\n",
       "    {\n",
       "      \"metadata\": {\n",
       "        \"selfLink\": \"/api/v1/componentstatuses/controller-manager\",\n",
       "        \"name\": \"controller-manager\"\n",
       "      },\n",
       "      \"conditions\": [\n",
       "        {\n",
       "          \"status\": \"True\",\n",
       "          \"type\": \"Healthy\",\n",
       "          \"message\": \"ok\"\n",
       "        }\n",
       "      ]\n",
       "    },\n",
       "    {\n",
       "      \"metadata\": {\n",
       "        \"selfLink\": \"/api/v1/componentstatuses/etcd-0\",\n",
       "        \"name\": \"etcd-0\"\n",
       "      },\n",
       "      \"conditions\": [\n",
       "        {\n",
       "          \"status\": \"True\",\n",
       "          \"type\": \"Healthy\",\n",
       "          \"message\": \"{\\\"health\\\":\\\"true\\\"}\"\n",
       "        }\n",
       "      ]\n",
       "    }\n",
       "  ]\n",
       "}\n"
      ]
     },
     "execution_count": 9,
     "metadata": {},
     "output_type": "execute_result"
    }
   ],
   "source": [
    "result"
   ]
  },
  {
   "cell_type": "markdown",
   "metadata": {},
   "source": [
    "From what we got, we can now print out names of continers like this, for example."
   ]
  },
  {
   "cell_type": "code",
   "execution_count": 10,
   "metadata": {},
   "outputs": [
    {
     "data": {
      "text/plain": [
       "3-element Array{String,1}:\n",
       " \"scheduler\"\n",
       " \"controller-manager\"\n",
       " \"etcd-0\""
      ]
     },
     "execution_count": 10,
     "metadata": {},
     "output_type": "execute_result"
    }
   ],
   "source": [
    "collect(item.metadata.name for item in result.items)"
   ]
  },
  {
   "cell_type": "markdown",
   "metadata": {},
   "source": [
    "In the same manner we can get other properties of the cluster as well. Here we are listing the namespaces. Namespaces are like separate clusters within the cluster, like having a separate account for each department or each person."
   ]
  },
  {
   "cell_type": "code",
   "execution_count": 11,
   "metadata": {},
   "outputs": [
    {
     "data": {
      "text/plain": [
       "6-element Array{String,1}:\n",
       " \"default\"\n",
       " \"juliarun\"\n",
       " \"kube-node-lease\"\n",
       " \"kube-public\"\n",
       " \"kube-system\"\n",
       " \"kubernetes-dashboard\""
      ]
     },
     "execution_count": 11,
     "metadata": {},
     "output_type": "execute_result"
    }
   ],
   "source": [
    "collect(item.metadata.name for item in (get(ctx, :Namespace)).items)"
   ]
  },
  {
   "cell_type": "markdown",
   "metadata": {},
   "source": [
    "We were in the default namespace if you remember. If we list processes, which are entities called `Pods` in Kubernetes, we find none.\n",
    "\n",
    "Because we haven't started any. But if we switch to the system namespace, we shall find some already running. These are what Kubernetes itself started - the system processes."
   ]
  },
  {
   "cell_type": "code",
   "execution_count": 12,
   "metadata": {},
   "outputs": [
    {
     "data": {
      "text/plain": [
       "0-element Array{Any,1}"
      ]
     },
     "execution_count": 12,
     "metadata": {},
     "output_type": "execute_result"
    }
   ],
   "source": [
    "collect(item.metadata.name for item in (get(ctx, :Pod)).items)"
   ]
  },
  {
   "cell_type": "code",
   "execution_count": 13,
   "metadata": {},
   "outputs": [
    {
     "data": {
      "text/plain": [
       "\"kube-system\""
      ]
     },
     "execution_count": 13,
     "metadata": {},
     "output_type": "execute_result"
    }
   ],
   "source": [
    "set_ns(ctx, \"kube-system\")"
   ]
  },
  {
   "cell_type": "code",
   "execution_count": 14,
   "metadata": {},
   "outputs": [
    {
     "data": {
      "text/plain": [
       "10-element Array{String,1}:\n",
       " \"calico-kube-controllers-75d56dfc47-5cjkv\"\n",
       " \"calico-node-l2294\"\n",
       " \"coredns-66bff467f8-p9g2q\"\n",
       " \"coredns-66bff467f8-prj5c\"\n",
       " \"etcd-tanlto\"\n",
       " \"kube-apiserver-tanlto\"\n",
       " \"kube-controller-manager-tanlto\"\n",
       " \"kube-proxy-bpg64\"\n",
       " \"kube-scheduler-tanlto\"\n",
       " \"npd-v0.8.0-6fdv9\""
      ]
     },
     "execution_count": 14,
     "metadata": {},
     "output_type": "execute_result"
    }
   ],
   "source": [
    "collect(item.metadata.name for item in (get(ctx, :Pod)).items)"
   ]
  },
  {
   "cell_type": "markdown",
   "metadata": {},
   "source": [
    "What kubernetes runs, the `Pods` in the cluster, are containers. And containers are instances of packaged applications. The packages are called images. The images are stored in a place called repository. We can see images in our repository."
   ]
  },
  {
   "cell_type": "code",
   "execution_count": 17,
   "metadata": {},
   "outputs": [
    {
     "name": "stdout",
     "output_type": "stream",
     "text": [
      "openresty                            bionic-with-top     a82cdeb5f7e6        2 days ago          648MB\n",
      "tanlto:5000/juliadefault             v0.4.0              da283f42408e        7 days ago          431MB\n",
      "127.0.1.1:5000/juliadefault          v0.4.0              da283f42408e        7 days ago          431MB\n",
      "juliadefault                         v0.4.0              da283f42408e        7 days ago          431MB\n",
      "127.0.1.1:5000/openresty/openresty   bionic              de816c768659        2 weeks ago         562MB\n",
      "openresty/openresty                  bionic              de816c768659        2 weeks ago         562MB\n",
      "127.0.1.1:5000/rabbitmq              3.8.2-management    985adbf13062        2 months ago        181MB\n",
      "rabbitmq                             3.8.2-management    985adbf13062        2 months ago        181MB\n",
      "tanlto:5000/rabbitmq                 3.8.2-management    985adbf13062        2 months ago        181MB\n",
      "127.0.1.1:5000/rabbitmq              3.8.2               b8956a8129ef        2 months ago        151MB\n",
      "rabbitmq                             3.8.2               b8956a8129ef        2 months ago        151MB\n"
     ]
    }
   ],
   "source": [
    "run(pipeline(`docker images`, `grep -e nginx -e openresty -e juliadefault -e rabbitmq`));"
   ]
  },
  {
   "cell_type": "markdown",
   "metadata": {},
   "source": [
    "Images can be fetched from a central repository using `docker pull <image name>`\n",
    "\n",
    "For example, `docker pull openresty:bionic` would fetch the `openresty/openresty:bionic` image from dockerhub. Dockerhub is a hosted repository at https://hub.docker.com/search?q=&type=image\n",
    "\n",
    "Applications can be built as images using the `docker build` command. For example the `openresty:bionic-with-top` was an image built locally. The specification file for that, called a dockerfile, looks like this:"
   ]
  },
  {
   "cell_type": "code",
   "execution_count": 18,
   "metadata": {},
   "outputs": [
    {
     "name": "stdout",
     "output_type": "stream",
     "text": [
      "# openresty image with ngxtop utility\n",
      "#\n",
      "# build using:\n",
      "# docker build -t openresty:bionic-with-top -f Dockerfile .\n",
      "\n",
      "FROM openresty/openresty:bionic\n",
      "\n",
      "RUN apt-get install -y python-pip \\\n",
      "    && pip install ngxtop \\\n",
      "    && rm /usr/local/openresty/nginx/logs/access.log \\\n",
      "    && rm /usr/local/openresty/nginx/logs/error.log\n",
      "\n",
      "COPY nginx.conf /usr/local/openresty/nginx/conf/nginx.conf\n"
     ]
    }
   ],
   "source": [
    ";cat Dockerfile"
   ]
  }
 ],
 "metadata": {
  "kernelspec": {
   "display_name": "Julia 1.4.1",
   "language": "julia",
   "name": "julia-1.4"
  },
  "language_info": {
   "file_extension": ".jl",
   "mimetype": "application/julia",
   "name": "julia",
   "version": "1.4.1"
  }
 },
 "nbformat": 4,
 "nbformat_minor": 2
}
