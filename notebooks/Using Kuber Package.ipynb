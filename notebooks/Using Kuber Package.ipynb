{
 "cells": [
  {
   "cell_type": "code",
   "execution_count": 1,
   "metadata": {},
   "outputs": [],
   "source": [
    "# using Pkg\n",
    "# Pkg.add(\"Kuber\")\n",
    "using Kuber"
   ]
  },
  {
   "cell_type": "markdown",
   "metadata": {},
   "source": [
    "## Connecting, Authenticating, API versions"
   ]
  },
  {
   "cell_type": "code",
   "execution_count": 2,
   "metadata": {},
   "outputs": [
    {
     "data": {
      "text/plain": []
     },
     "execution_count": 2,
     "metadata": {},
     "output_type": "execute_result"
    },
    {
     "name": "stdout",
     "output_type": "stream",
     "text": [
      "Kubernetes namespace default at http://localhost:8001"
     ]
    }
   ],
   "source": [
    "ctx = KuberContext()"
   ]
  },
  {
   "cell_type": "code",
   "execution_count": 3,
   "metadata": {},
   "outputs": [
    {
     "data": {
      "text/plain": [
       "\"default\""
      ]
     },
     "execution_count": 3,
     "metadata": {},
     "output_type": "execute_result"
    }
   ],
   "source": [
    "ctx.namespace"
   ]
  },
  {
   "cell_type": "code",
   "execution_count": 4,
   "metadata": {},
   "outputs": [
    {
     "data": {
      "text/plain": [
       "\"http://localhost:8001\""
      ]
     },
     "execution_count": 4,
     "metadata": {},
     "output_type": "execute_result"
    }
   ],
   "source": [
    "ctx.client.root"
   ]
  },
  {
   "cell_type": "code",
   "execution_count": 5,
   "metadata": {},
   "outputs": [
    {
     "data": {
      "text/plain": [
       "Dict{Symbol,Any} with 3 entries:\n",
       "  :require_ssl_verification => true\n",
       "  :retries                  => 0\n",
       "  :status_exception         => false"
      ]
     },
     "execution_count": 5,
     "metadata": {},
     "output_type": "execute_result"
    }
   ],
   "source": [
    "ctx.client.clntoptions"
   ]
  },
  {
   "cell_type": "code",
   "execution_count": 6,
   "metadata": {},
   "outputs": [
    {
     "data": {
      "text/plain": [
       "Dict{String,String} with 1 entry:\n",
       "  \"Connection\" => \"close\""
      ]
     },
     "execution_count": 6,
     "metadata": {},
     "output_type": "execute_result"
    }
   ],
   "source": [
    "ctx.client.headers"
   ]
  },
  {
   "cell_type": "markdown",
   "metadata": {},
   "source": [
    "**APIs available for setting namespaces and advanced authentication:**\n",
    "- `set_ns(ctx::KuberContext, namespace::String)`\n",
    "- `set_server(ctx::KuberContext, uri::String=DEFAULT_URI, reset_api_versions::Bool=false; kwargs...)`"
   ]
  },
  {
   "cell_type": "code",
   "execution_count": 7,
   "metadata": {},
   "outputs": [
    {
     "name": "stderr",
     "output_type": "stream",
     "text": [
      "┌ Info: Core versions\n",
      "│   supported = v1\n",
      "│   preferred = v1\n",
      "└ @ Kuber /home/tan/.julia/dev/Kuber/src/helpers.jl:158\n",
      "┌ Info: apiregistration.k8s.io (Apiregistration) versions\n",
      "│   supported = v1, v1beta1\n",
      "│   preferred = v1\n",
      "└ @ Kuber /home/tan/.julia/dev/Kuber/src/helpers.jl:125\n",
      "┌ Info: extensions (Extensions) versions\n",
      "│   supported = v1beta1\n",
      "│   preferred = v1beta1\n",
      "└ @ Kuber /home/tan/.julia/dev/Kuber/src/helpers.jl:125\n",
      "┌ Info: apps (Apps) versions\n",
      "│   supported = v1\n",
      "│   preferred = v1\n",
      "└ @ Kuber /home/tan/.julia/dev/Kuber/src/helpers.jl:125\n",
      "┌ Info: events.k8s.io (Events) versions\n",
      "│   supported = v1beta1\n",
      "│   preferred = v1beta1\n",
      "└ @ Kuber /home/tan/.julia/dev/Kuber/src/helpers.jl:125\n",
      "┌ Info: authentication.k8s.io (Authentication) versions\n",
      "│   supported = v1, v1beta1\n",
      "│   preferred = v1\n",
      "└ @ Kuber /home/tan/.julia/dev/Kuber/src/helpers.jl:125\n",
      "┌ Info: authorization.k8s.io (Authorization) versions\n",
      "│   supported = v1, v1beta1\n",
      "│   preferred = v1\n",
      "└ @ Kuber /home/tan/.julia/dev/Kuber/src/helpers.jl:125\n",
      "┌ Info: autoscaling (Autoscaling) versions\n",
      "│   supported = v1, v2beta1, v2beta2\n",
      "│   preferred = v1\n",
      "└ @ Kuber /home/tan/.julia/dev/Kuber/src/helpers.jl:125\n",
      "┌ Info: batch (Batch) versions\n",
      "│   supported = v1, v1beta1\n",
      "│   preferred = v1\n",
      "└ @ Kuber /home/tan/.julia/dev/Kuber/src/helpers.jl:125\n",
      "┌ Info: certificates.k8s.io (Certificates) versions\n",
      "│   supported = v1beta1\n",
      "│   preferred = v1beta1\n",
      "└ @ Kuber /home/tan/.julia/dev/Kuber/src/helpers.jl:125\n",
      "┌ Info: networking.k8s.io (Networking) versions\n",
      "│   supported = v1, v1beta1\n",
      "│   preferred = v1\n",
      "└ @ Kuber /home/tan/.julia/dev/Kuber/src/helpers.jl:125\n",
      "┌ Info: policy (Policy) versions\n",
      "│   supported = v1beta1\n",
      "│   preferred = v1beta1\n",
      "└ @ Kuber /home/tan/.julia/dev/Kuber/src/helpers.jl:125\n",
      "┌ Info: rbac.authorization.k8s.io (RbacAuthorization) versions\n",
      "│   supported = v1, v1beta1\n",
      "│   preferred = v1\n",
      "└ @ Kuber /home/tan/.julia/dev/Kuber/src/helpers.jl:125\n",
      "┌ Info: storage.k8s.io (Storage) versions\n",
      "│   supported = v1, v1beta1\n",
      "│   preferred = v1\n",
      "└ @ Kuber /home/tan/.julia/dev/Kuber/src/helpers.jl:125\n",
      "┌ Info: admissionregistration.k8s.io (Admissionregistration) versions\n",
      "│   supported = v1, v1beta1\n",
      "│   preferred = v1\n",
      "└ @ Kuber /home/tan/.julia/dev/Kuber/src/helpers.jl:125\n",
      "┌ Info: apiextensions.k8s.io (Apiextensions) versions\n",
      "│   supported = v1, v1beta1\n",
      "│   preferred = v1\n",
      "└ @ Kuber /home/tan/.julia/dev/Kuber/src/helpers.jl:125\n",
      "┌ Info: scheduling.k8s.io (Scheduling) versions\n",
      "│   supported = v1, v1beta1\n",
      "│   preferred = v1\n",
      "└ @ Kuber /home/tan/.julia/dev/Kuber/src/helpers.jl:125\n",
      "┌ Info: coordination.k8s.io (Coordination) versions\n",
      "│   supported = v1, v1beta1\n",
      "│   preferred = v1\n",
      "└ @ Kuber /home/tan/.julia/dev/Kuber/src/helpers.jl:125\n",
      "┌ Info: node.k8s.io (Node) versions\n",
      "│   supported = v1beta1\n",
      "│   preferred = v1beta1\n",
      "└ @ Kuber /home/tan/.julia/dev/Kuber/src/helpers.jl:125\n",
      "┌ Info: discovery.k8s.io (Discovery) versions\n",
      "│   supported = v1beta1\n",
      "│   preferred = v1beta1\n",
      "└ @ Kuber /home/tan/.julia/dev/Kuber/src/helpers.jl:125\n",
      "┌ Info: crd.projectcalico.org (CrdProjectcalicoOrg) versions\n",
      "│   supported = v1\n",
      "│   preferred = v1\n",
      "└ @ Kuber /home/tan/.julia/dev/Kuber/src/helpers.jl:125\n",
      "┌ Info: unsupported crd.projectcalico.org/v1\n",
      "└ @ Kuber /home/tan/.julia/dev/Kuber/src/helpers.jl:131\n"
     ]
    }
   ],
   "source": [
    "Kuber.set_api_versions!(ctx; verbose=true)"
   ]
  },
  {
   "cell_type": "markdown",
   "metadata": {},
   "source": [
    "## REST API paradigm - entities and verbs\n",
    "\n",
    "\n",
    "Entities:\n",
    "- Job\n",
    "- Pod\n",
    "- Service\n",
    "\n",
    "Verbs:\n",
    "- get/list\n",
    "- put\n",
    "- update!\n",
    "- delete!\n",
    "\n",
    "## Examining the cluster\n"
   ]
  },
  {
   "cell_type": "code",
   "execution_count": 8,
   "metadata": {},
   "outputs": [
    {
     "data": {
      "text/plain": [
       "Kuber.Kubernetes.IoK8sApiCoreV1ComponentStatusList"
      ]
     },
     "execution_count": 8,
     "metadata": {},
     "output_type": "execute_result"
    }
   ],
   "source": [
    "result = get(ctx, :ComponentStatus);\n",
    "typeof(result)"
   ]
  },
  {
   "cell_type": "code",
   "execution_count": 9,
   "metadata": {},
   "outputs": [
    {
     "data": {
      "text/plain": [
       "{\n",
       "  \"kind\": \"ComponentStatusList\",\n",
       "  \"metadata\": {\n",
       "    \"selfLink\": \"/api/v1/componentstatuses\"\n",
       "  },\n",
       "  \"apiVersion\": \"v1\",\n",
       "  \"items\": [\n",
       "    {\n",
       "      \"metadata\": {\n",
       "        \"selfLink\": \"/api/v1/componentstatuses/scheduler\",\n",
       "        \"name\": \"scheduler\"\n",
       "      },\n",
       "      \"conditions\": [\n",
       "        {\n",
       "          \"status\": \"True\",\n",
       "          \"type\": \"Healthy\",\n",
       "          \"message\": \"ok\"\n",
       "        }\n",
       "      ]\n",
       "    },\n",
       "    {\n",
       "      \"metadata\": {\n",
       "        \"selfLink\": \"/api/v1/componentstatuses/controller-manager\",\n",
       "        \"name\": \"controller-manager\"\n",
       "      },\n",
       "      \"conditions\": [\n",
       "        {\n",
       "          \"status\": \"True\",\n",
       "          \"type\": \"Healthy\",\n",
       "          \"message\": \"ok\"\n",
       "        }\n",
       "      ]\n",
       "    },\n",
       "    {\n",
       "      \"metadata\": {\n",
       "        \"selfLink\": \"/api/v1/componentstatuses/etcd-0\",\n",
       "        \"name\": \"etcd-0\"\n",
       "      },\n",
       "      \"conditions\": [\n",
       "        {\n",
       "          \"status\": \"True\",\n",
       "          \"type\": \"Healthy\",\n",
       "          \"message\": \"{\\\"health\\\":\\\"true\\\"}\"\n",
       "        }\n",
       "      ]\n",
       "    }\n",
       "  ]\n",
       "}\n"
      ]
     },
     "execution_count": 9,
     "metadata": {},
     "output_type": "execute_result"
    }
   ],
   "source": [
    "result"
   ]
  },
  {
   "cell_type": "code",
   "execution_count": 10,
   "metadata": {},
   "outputs": [
    {
     "data": {
      "text/plain": [
       "6-element Array{String,1}:\n",
       " \"default\"\n",
       " \"juliarun\"\n",
       " \"kube-node-lease\"\n",
       " \"kube-public\"\n",
       " \"kube-system\"\n",
       " \"kubernetes-dashboard\""
      ]
     },
     "execution_count": 10,
     "metadata": {},
     "output_type": "execute_result"
    }
   ],
   "source": [
    "collect(item.metadata.name for item in (get(ctx, :Namespace)).items)"
   ]
  },
  {
   "cell_type": "code",
   "execution_count": 11,
   "metadata": {},
   "outputs": [
    {
     "data": {
      "text/plain": [
       "0-element Array{Any,1}"
      ]
     },
     "execution_count": 11,
     "metadata": {},
     "output_type": "execute_result"
    }
   ],
   "source": [
    "collect(item.metadata.name for item in (get(ctx, :Pod)).items)"
   ]
  },
  {
   "cell_type": "code",
   "execution_count": 12,
   "metadata": {},
   "outputs": [
    {
     "data": {
      "text/plain": [
       "\"kube-system\""
      ]
     },
     "execution_count": 12,
     "metadata": {},
     "output_type": "execute_result"
    }
   ],
   "source": [
    "set_ns(ctx, \"kube-system\")"
   ]
  },
  {
   "cell_type": "code",
   "execution_count": 13,
   "metadata": {},
   "outputs": [
    {
     "data": {
      "text/plain": [
       "10-element Array{String,1}:\n",
       " \"calico-kube-controllers-75d56dfc47-lgbxm\"\n",
       " \"calico-node-dgfxb\"\n",
       " \"coredns-66bff467f8-7vlq8\"\n",
       " \"coredns-66bff467f8-x2cpl\"\n",
       " \"etcd-tanlto\"\n",
       " \"kube-apiserver-tanlto\"\n",
       " \"kube-controller-manager-tanlto\"\n",
       " \"kube-proxy-2tlqg\"\n",
       " \"kube-scheduler-tanlto\"\n",
       " \"npd-v0.8.0-lxqd8\""
      ]
     },
     "execution_count": 13,
     "metadata": {},
     "output_type": "execute_result"
    }
   ],
   "source": [
    "collect(item.metadata.name for item in (get(ctx, :Pod)).items)"
   ]
  }
 ],
 "metadata": {
  "kernelspec": {
   "display_name": "Julia 1.4.1",
   "language": "julia",
   "name": "julia-1.4"
  },
  "language_info": {
   "file_extension": ".jl",
   "mimetype": "application/julia",
   "name": "julia",
   "version": "1.4.1"
  }
 },
 "nbformat": 4,
 "nbformat_minor": 2
}
