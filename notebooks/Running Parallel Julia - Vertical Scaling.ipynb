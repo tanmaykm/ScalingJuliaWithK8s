{
 "cells": [
  {
   "cell_type": "code",
   "execution_count": 1,
   "metadata": {},
   "outputs": [
    {
     "name": "stderr",
     "output_type": "stream",
     "text": [
      "┌ Info: unsupported crd.projectcalico.org/v1\n",
      "└ @ Kuber /home/tan/.julia/packages/Kuber/fdQId/src/helpers.jl:131\n"
     ]
    }
   ],
   "source": [
    "using Kuber\n",
    "ctx = KuberContext();\n",
    "Kuber.set_api_versions!(ctx);"
   ]
  },
  {
   "cell_type": "markdown",
   "metadata": {},
   "source": [
    "## Multithreading\n",
    "\n",
    "Start julia with JULIA_NUM_THREADS environment set"
   ]
  },
  {
   "cell_type": "code",
   "execution_count": 2,
   "metadata": {},
   "outputs": [],
   "source": [
    "julia_pod = kuber_obj(ctx, \"\"\"{\n",
    "           \"kind\": \"Pod\",\n",
    "           \"metadata\":{\n",
    "               \"name\": \"julia-pod\",\n",
    "               \"namespace\": \"default\",\n",
    "               \"labels\": {\n",
    "                   \"name\": \"julia-pod\"\n",
    "               }\n",
    "           },\n",
    "           \"spec\": {\n",
    "               \"containers\": [{\n",
    "                   \"name\": \"julia\",\n",
    "                   \"image\": \"julia:1.4.1\",\n",
    "                   \"env\": [{\n",
    "                       \"name\": \"JULIA_NUM_THREADS\",\n",
    "                       \"value\": \"4\"\n",
    "                   }],\n",
    "                   \"command\": [\"julia\"],\n",
    "                   \"args\": [\n",
    "                       \"-e\",\n",
    "                       \"while true; println(Threads.nthreads()); sleep(5); end\"\n",
    "                   ],\n",
    "                   \"resources\": {\n",
    "                       \"limits\": {\n",
    "                           \"cpu\": \"4\"\n",
    "                       },\n",
    "                       \"requests\": {\n",
    "                           \"cpu\": \"4\"\n",
    "                       }\n",
    "                   }\n",
    "               }]\n",
    "           }\n",
    "       }\"\"\");"
   ]
  },
  {
   "cell_type": "code",
   "execution_count": 3,
   "metadata": {},
   "outputs": [],
   "source": [
    "pod = put!(ctx, julia_pod);"
   ]
  },
  {
   "cell_type": "code",
   "execution_count": 4,
   "metadata": {},
   "outputs": [
    {
     "name": "stdout",
     "output_type": "stream",
     "text": [
      "4\n",
      "4\n"
     ]
    }
   ],
   "source": [
    ";kubectl logs julia-pod"
   ]
  },
  {
   "cell_type": "code",
   "execution_count": 5,
   "metadata": {},
   "outputs": [],
   "source": [
    "delete!(ctx, pod);"
   ]
  },
  {
   "cell_type": "markdown",
   "metadata": {},
   "source": [
    "## Multiprocerssing\n",
    "\n",
    "Use Julia Distributed package"
   ]
  },
  {
   "cell_type": "code",
   "execution_count": 6,
   "metadata": {},
   "outputs": [],
   "source": [
    "julia_pod = kuber_obj(ctx, \"\"\"{\n",
    "           \"kind\": \"Pod\",\n",
    "           \"metadata\":{\n",
    "               \"name\": \"julia-pod\",\n",
    "               \"namespace\": \"default\",\n",
    "               \"labels\": {\n",
    "                   \"name\": \"julia-pod\"\n",
    "               }\n",
    "           },\n",
    "           \"spec\": {\n",
    "               \"containers\": [{\n",
    "                   \"name\": \"julia\",\n",
    "                   \"image\": \"julia:1.4.1\",\n",
    "                   \"command\": [\"julia\"],\n",
    "                   \"args\": [\n",
    "                       \"-e\",\n",
    "                       \"using Distributed; addprocs(4); while true; println(nworkers()); sleep(5); end\"\n",
    "                   ],\n",
    "                   \"resources\": {\n",
    "                       \"limits\": {\n",
    "                           \"cpu\": \"4\"\n",
    "                       },\n",
    "                       \"requests\": {\n",
    "                           \"cpu\": \"4\"\n",
    "                       }\n",
    "                   }\n",
    "               }]\n",
    "           }\n",
    "       }\"\"\");"
   ]
  },
  {
   "cell_type": "code",
   "execution_count": 7,
   "metadata": {},
   "outputs": [],
   "source": [
    "pod = put!(ctx, julia_pod);"
   ]
  },
  {
   "cell_type": "code",
   "execution_count": 8,
   "metadata": {},
   "outputs": [
    {
     "name": "stdout",
     "output_type": "stream",
     "text": [
      "4\n",
      "4\n"
     ]
    }
   ],
   "source": [
    ";kubectl logs julia-pod"
   ]
  },
  {
   "cell_type": "code",
   "execution_count": 9,
   "metadata": {},
   "outputs": [],
   "source": [
    "delete!(ctx, pod);"
   ]
  }
 ],
 "metadata": {
  "kernelspec": {
   "display_name": "Julia 1.4.1",
   "language": "julia",
   "name": "julia-1.4"
  },
  "language_info": {
   "file_extension": ".jl",
   "mimetype": "application/julia",
   "name": "julia",
   "version": "1.4.1"
  }
 },
 "nbformat": 4,
 "nbformat_minor": 2
}
