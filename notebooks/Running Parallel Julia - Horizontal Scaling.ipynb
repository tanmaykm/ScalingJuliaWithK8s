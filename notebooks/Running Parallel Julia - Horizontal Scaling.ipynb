{
 "cells": [
  {
   "cell_type": "code",
   "execution_count": 1,
   "metadata": {},
   "outputs": [
    {
     "name": "stderr",
     "output_type": "stream",
     "text": [
      "┌ Info: unsupported crd.projectcalico.org/v1\n",
      "└ @ Kuber /home/tan/.julia/packages/Kuber/fdQId/src/helpers.jl:131\n"
     ]
    }
   ],
   "source": [
    "using Kuber, JSON\n",
    "ctx = KuberContext();\n",
    "Kuber.set_api_versions!(ctx);"
   ]
  },
  {
   "cell_type": "markdown",
   "metadata": {},
   "source": [
    "## Julia Workers in a ReplicaSet\n",
    "\n",
    "Run a set of Julia processes, independent of each other, as a Kubernetes ReplicaSet.\n",
    "\n",
    "Notice the Pod `spec` within the ReplicaSet `spec`. And notice the `replicas` attribute. That is how we specify how many replicas to run and of what.\n",
    "\n",
    "Advantage of using a ReplicaSet, rather than a bunch of pods is that the whole set can be managed together. It can even be scaled up and down together."
   ]
  },
  {
   "cell_type": "code",
   "execution_count": 2,
   "metadata": {},
   "outputs": [],
   "source": [
    "julia_workers = kuber_obj(ctx, \"\"\"{\n",
    "           \"kind\": \"ReplicaSet\",\n",
    "           \"metadata\":{\n",
    "               \"name\": \"julia-workers\",\n",
    "               \"namespace\": \"default\",\n",
    "               \"labels\": {\n",
    "                   \"name\": \"julia-workers\"\n",
    "               }\n",
    "           },\n",
    "           \"spec\": {\n",
    "               \"replicas\": 2,\n",
    "               \"selector\": {\n",
    "                   \"matchLabels\": {\n",
    "                       \"name\": \"julia-worker\"\n",
    "                   }    \n",
    "               },\n",
    "               \"template\": {\n",
    "                   \"metadata\": {\n",
    "                       \"labels\": {\n",
    "                           \"name\": \"julia-worker\"\n",
    "                       }\n",
    "                   },\n",
    "                   \"spec\": {\n",
    "                       \"containers\": [{\n",
    "                           \"name\": \"julia\",\n",
    "                           \"image\": \"julia:1.4.1\",\n",
    "                           \"command\": [\"julia\"],\n",
    "                           \"args\": [\n",
    "                               \"-e\",\n",
    "                               \"while true; println(time()); sleep(5); end\"\n",
    "                           ],\n",
    "                           \"resources\": {\n",
    "                               \"limits\": {\n",
    "                                   \"cpu\": \"1\"\n",
    "                               },\n",
    "                               \"requests\": {\n",
    "                                   \"cpu\": \"0.5\"\n",
    "                               }\n",
    "                           }\n",
    "                       }]\n",
    "                   }\n",
    "               }\n",
    "           }\n",
    "       }\"\"\");"
   ]
  },
  {
   "cell_type": "code",
   "execution_count": 3,
   "metadata": {},
   "outputs": [],
   "source": [
    "workers = put!(ctx, julia_workers);"
   ]
  },
  {
   "cell_type": "code",
   "execution_count": 4,
   "metadata": {},
   "outputs": [
    {
     "name": "stdout",
     "output_type": "stream",
     "text": [
      "NAME                  READY   STATUS    RESTARTS   AGE\n",
      "julia-workers-mvvsm   1/1     Running   0          7s\n",
      "julia-workers-ttzgq   1/1     Running   0          7s\n"
     ]
    }
   ],
   "source": [
    ";kubectl get pods"
   ]
  },
  {
   "cell_type": "markdown",
   "metadata": {},
   "source": [
    "### Scale up. And scale back down.\n",
    "\n",
    "We can scale the replica set up and down by updating it.\n",
    "\n",
    "Which physical machine the pods will be launched on when scaled up, and which pods will be shut down when scaled down is determined by Kubernetes scheduler and the rules set for it.\n",
    "\n",
    "To scale a replica set, we use the `update!` verb on it, specifying a patch to be applied.\n",
    "\n",
    "Here we are scaling up the replica set from 2 pods to 3 pods."
   ]
  },
  {
   "cell_type": "code",
   "execution_count": 6,
   "metadata": {},
   "outputs": [
    {
     "name": "stdout",
     "output_type": "stream",
     "text": [
      "[\n",
      "    {\n",
      "        \"value\": 3,\n",
      "        \"op\": \"replace\",\n",
      "        \"path\": \"/spec/replicas\"\n",
      "    }\n",
      "]\n"
     ]
    }
   ],
   "source": [
    "using JSON\n",
    "nworkers = 3\n",
    "patch = JSON.parse(\"\"\"[ { \"op\": \"replace\", \"path\": \"/spec/replicas\", \"value\": $nworkers } ]\"\"\");\n",
    "JSON.print(patch, 4)"
   ]
  },
  {
   "cell_type": "code",
   "execution_count": 7,
   "metadata": {},
   "outputs": [],
   "source": [
    "update!(ctx, :ReplicaSet, \"julia-workers\", patch, \"application/json-patch+json\");"
   ]
  },
  {
   "cell_type": "code",
   "execution_count": 8,
   "metadata": {},
   "outputs": [
    {
     "name": "stdout",
     "output_type": "stream",
     "text": [
      "NAME                  READY   STATUS    RESTARTS   AGE\n",
      "julia-workers-mvvsm   1/1     Running   0          46s\n",
      "julia-workers-ttzgq   1/1     Running   0          46s\n",
      "julia-workers-xfntb   1/1     Running   0          8s\n"
     ]
    }
   ],
   "source": [
    ";kubectl get pods"
   ]
  },
  {
   "cell_type": "markdown",
   "metadata": {},
   "source": [
    "And here we are scaling down the replica set from 3 pods to 2 pods."
   ]
  },
  {
   "cell_type": "code",
   "execution_count": 9,
   "metadata": {},
   "outputs": [],
   "source": [
    "nworkers = 2\n",
    "patch = JSON.parse(\"\"\"[ { \"op\": \"replace\", \"path\": \"/spec/replicas\", \"value\": $nworkers } ]\"\"\")\n",
    "update!(ctx, :ReplicaSet, \"julia-workers\", patch, \"application/json-patch+json\");"
   ]
  },
  {
   "cell_type": "code",
   "execution_count": 10,
   "metadata": {},
   "outputs": [
    {
     "name": "stdout",
     "output_type": "stream",
     "text": [
      "NAME                  READY   STATUS    RESTARTS   AGE\n",
      "julia-workers-mvvsm   1/1     Running   0          74s\n",
      "julia-workers-ttzgq   1/1     Running   0          74s\n"
     ]
    }
   ],
   "source": [
    ";kubectl get pods"
   ]
  },
  {
   "cell_type": "code",
   "execution_count": 11,
   "metadata": {},
   "outputs": [],
   "source": [
    "delete!(ctx, workers);"
   ]
  },
  {
   "cell_type": "code",
   "execution_count": null,
   "metadata": {},
   "outputs": [],
   "source": []
  }
 ],
 "metadata": {
  "kernelspec": {
   "display_name": "Julia 1.4.1",
   "language": "julia",
   "name": "julia-1.4"
  },
  "language_info": {
   "file_extension": ".jl",
   "mimetype": "application/julia",
   "name": "julia",
   "version": "1.4.1"
  }
 },
 "nbformat": 4,
 "nbformat_minor": 2
}
